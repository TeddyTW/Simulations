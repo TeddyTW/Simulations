{
 "cells": [
  {
   "cell_type": "code",
   "execution_count": 1,
   "id": "ae0f998f-459a-46ea-b7e7-afc4f046c21a",
   "metadata": {},
   "outputs": [],
   "source": [
    "import numpy as np\n",
    "import matplotlib.pyplot as plt\n",
    "import scipy.stats as stats\n",
    "import math"
   ]
  },
  {
   "cell_type": "code",
   "execution_count": 19,
   "id": "4a522a4d-4d5a-4264-8640-d5c1b5829724",
   "metadata": {},
   "outputs": [],
   "source": [
    "random_x = np.random.rand(10000)\n",
    "random_y = np.random.rand(10000)\n",
    "random_z = np.random.rand(10000)\n",
    "\n",
    "random_R=np.sqrt(random_x**2 + random_y**2 + random_z**2)\n",
    "\n",
    "# random_x=random_x/random_R\n",
    "# random_y=random_y/random_R\n",
    "# random_z=random_z/random_R"
   ]
  },
  {
   "cell_type": "code",
   "execution_count": 20,
   "id": "c174de79-548b-4f4b-9af7-7f1ad8f1a4f3",
   "metadata": {},
   "outputs": [
    {
     "data": {
      "text/plain": [
       "0.5020308225026396"
      ]
     },
     "execution_count": 20,
     "metadata": {},
     "output_type": "execute_result"
    }
   ],
   "source": [
    "while(i< 200):\n",
    "    #we say that x and y mix, and y and z mix\n",
    "    "
   ]
  },
  {
   "cell_type": "code",
   "execution_count": 23,
   "id": "89b001d3-2f98-402d-833b-566b63db3c62",
   "metadata": {},
   "outputs": [
    {
     "data": {
      "text/plain": [
       "(array([3183., 1244., 1033.,  828.,  769.,  715.,  583.,  565.,  572.,\n",
       "         508.]),\n",
       " array([1.04029567e-08, 9.99692618e-02, 1.99938513e-01, 2.99907765e-01,\n",
       "        3.99877016e-01, 4.99846268e-01, 5.99815519e-01, 6.99784771e-01,\n",
       "        7.99754022e-01, 8.99723273e-01, 9.99692525e-01]),\n",
       " <BarContainer object of 10 artists>)"
      ]
     },
     "execution_count": 23,
     "metadata": {},
     "output_type": "execute_result"
    },
    {
     "data": {
      "image/png": "[encoded data removed]",
      "text/plain": [
       "<Figure size 432x288 with 1 Axes>"
      ]
     },
     "metadata": {
      "needs_background": "light"
     },
     "output_type": "display_data"
    }
   ],
   "source": [
    "plt.hist(random_x**2)"
   ]
  },
  {
   "cell_type": "code",
   "execution_count": null,
   "id": "4842fcb1-68fb-4818-8c4d-80b0d5a7079a",
   "metadata": {},
   "outputs": [],
   "source": []
  }
 ],
 "metadata": {
  "kernelspec": {
   "display_name": "Python 3",
   "language": "python",
   "name": "python3"
  },
  "language_info": {
   "codemirror_mode": {
    "name": "ipython",
    "version": 3
   },
   "file_extension": ".py",
   "mimetype": "text/x-python",
   "name": "python",
   "nbconvert_exporter": "python",
   "pygments_lexer": "ipython3",
   "version": "3.8.8"
  }
 },
 "nbformat": 4,
 "nbformat_minor": 5
}
