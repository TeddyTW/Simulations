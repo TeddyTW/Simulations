{
 "cells": [
  {
   "cell_type": "code",
   "execution_count": 5,
   "metadata": {
    "tags": []
   },
   "outputs": [],
   "source": [
    "import numpy as np\n",
    "import matplotlib.pyplot as plt\n",
    "import math\n",
    "import matplotlib.animation as animation\n",
    "from mpl_toolkits.mplot3d import Axes3D\n",
    "import random"
   ]
  },
  {
   "cell_type": "markdown",
   "metadata": {},
   "source": [
    "# A Penning Trap Simulation\n",
    "\n",
    "Here we adapt our previous simulation to consider a particle in a penning trap. This involes introducing a penning trap electric field which has the form:\n",
    "\n",
    "\\begin{align}\n",
    "     E &= A \\cdot \\begin{bmatrix}\n",
    "           2x \\\\\n",
    "           2y \\\\\n",
    "           -4z\n",
    "         \\end{bmatrix}\n",
    "\\end{align}\n"
   ]
  },
  {
   "cell_type": "code",
   "execution_count": 6,
   "metadata": {},
   "outputs": [],
   "source": [
    "class ChargedParticle:\n",
    "    def __init__(self, mass, charge, postion, velocity):\n",
    "        self.m = mass\n",
    "        self.q = charge\n",
    "        self.r = np.array(postion)\n",
    "        self.v = np.array(velocity)\n",
    "        \n",
    "    def RW_field(self, E, t, w):\n",
    "        return(np.array([E*math.cos(w*t), E*math.sin(w*t), 0]))\n",
    "    \n",
    "    def PE_field(self, other_particles, E_factor=1, C_factor=0.1, RW_args=None):\n",
    "        external=np.array([2*self.r[0], 2*self.r[1], -4*self.r[2]])\n",
    "        RW=0\n",
    "        if(RW_args):\n",
    "            RW=self.RW_field(RW_args[0], RW_args[1], RW_args[2])\n",
    "        coulomb=0\n",
    "        for i in other_particles:\n",
    "            coulomb += C_factor*np.array((self.r-i.r)/np.linalg.norm(self.r-i.r)**3)\n",
    "        return(np.array(external)+np.array(coulomb)+np.array(RW))\n",
    "        \n",
    "    def v_r_step(self, dt, E, B):\n",
    "        # Boris Algorithm\n",
    "        v_minus = (dt*self.q*E)/(2*self.m) + self.v\n",
    "        c = (dt*self.q)/(2*self.m)\n",
    "        \n",
    "        #solve for v_plus through system of linear equations\n",
    "        a = np.array([[1, -c*B[2], c*B[1]],[c*B[2], 1, -c*B[0]], [-c*B[1], c*B[0], 1]])\n",
    "        b = c * np.cross(v_minus, B) + v_minus\n",
    "        v_plus =np.linalg.solve(a, b)\n",
    "        \n",
    "        v_new = v_plus + (dt*self.q*E)/(2*self.m)\n",
    "        # END OF METHOD SIMILAR TO YOURS\n",
    "        \n",
    "        # below is a second version of the Boris Alg i worked out using matrix idenities?\n",
    "        # does it work? Kind of.       \n",
    "#         v_new=[]\n",
    "#         Omega = (self.q*B)/self.m\n",
    "#         Sigma = (self.q*E)/self.m\n",
    "#         A = np.array((Omega*dt)/2)\n",
    "#         C = np.array(self.v + dt*(Sigma + np.cross(self.v, Omega/2)))\n",
    "#         v_new=(C + A*np.dot(A, C) - np.cross(A, C))/(1+np.dot(A, A))\n",
    "\n",
    "        #Step and replace position and velocity\n",
    "        r_new = self.r + v_new*dt\n",
    "        self.v = np.array(v_new)\n",
    "        self.r = np.array(r_new)\n",
    "        \n",
    "#         def photon_absorption(self, frequency):\n",
    "        \n",
    "#             if self.e_s==True:\n",
    "#                 return\n",
    "\n",
    "#             if (self.r[1]>-1) and (self.r[2]<-0.5):\n",
    "#                 omega_0 = self.l_c/(2*3.14159)\n",
    "#                 omega_L = frequency/(2*3.14159)\n",
    "#                 T = self.l_w/(2*3.14159)\n",
    "#                 B12 = 0.5/(1 + 4*(((omega_L-self.v[1]-omega_0)/T)**2))\n",
    "#                 rn = random.uniform(0, 1)\n",
    "#                 #print(B12)\n",
    "#                 if rn<B12:\n",
    "#                     #print(self.v[1])\n",
    "#                     self.v[1] = self.v[1] - 0.5\n",
    "            \n"
   ]
  },
  {
   "cell_type": "code",
   "execution_count": 7,
   "metadata": {},
   "outputs": [],
   "source": [
    "## Initialise particle properties\n",
    "particles=[]\n",
    "num_particles=3\n",
    "q = 1\n",
    "m = 1\n",
    "\n",
    "#Initialise B field\n",
    "B=np.array([0, 0, 5])\n",
    "\n",
    "#create particle\n",
    "particle = ChargedParticle(m, q, [1, 1, 1], [2,0, 0])"
   ]
  },
  {
   "cell_type": "code",
   "execution_count": 11,
   "metadata": {
    "tags": []
   },
   "outputs": [],
   "source": [
    "#iterate through steps0\n",
    "T=0\n",
    "V=[]\n",
    "R=[]\n",
    "dt=.005\n",
    "time=[]\n",
    "\n",
    "#print(x_old[1][0])\n",
    "while T<14:\n",
    "    time.append(T)\n",
    "    r=[]\n",
    "    v=[]\n",
    "    for p in range(0, len(particles)):\n",
    "        other_particles=np.delete(particles, p)\n",
    "        rw_args=[200, T, 5000]\n",
    "        E = particles[p].PE_field(other_particles, E_factor=1, C_factor=0.1, RW_args=rw_args)\n",
    "        particles[p].v_r_step(dt, E, B)\n",
    "        \n",
    "        r.append(particles[p].r)\n",
    "        v.append(particles[p].v)\n",
    "    \n",
    "    R.append(r)\n",
    "    V.append(v)\n",
    "    T=T+dt\n"
   ]
  },
  {
   "cell_type": "code",
   "execution_count": 12,
   "metadata": {
    "tags": []
   },
   "outputs": [],
   "source": [
    "R=np.transpose(np.array(R))\n",
    "V=np.transpose(np.array(V))\n",
    "#for i in range(0, num_particles):\n",
    "    #print(R[0][i])"
   ]
  },
  {
   "cell_type": "code",
   "execution_count": 13,
   "metadata": {},
   "outputs": [
    {
     "data": {
      "image/png": "[encoded data removed]",
      "text/plain": [
       "<Figure size 432x288 with 1 Axes>"
      ]
     },
     "metadata": {
      "needs_background": "light"
     },
     "output_type": "display_data"
    }
   ],
   "source": [
    "for i in range(0, num_particles):\n",
    "    plt.plot(R[0][i], R[1][i]) \n",
    "plt.gca().set_aspect('equal')\n",
    "plt.show()\n",
    "\n",
    "for i in range(0, num_particles):\n",
    "    plt.plot(R[2][i]) "
   ]
  },
  {
   "cell_type": "code",
   "execution_count": 35,
   "metadata": {},
   "outputs": [
    {
     "name": "stdout",
     "output_type": "stream",
     "text": [
      "[[ 1.00001125  1.00002874  1.00005245  1.00008238  1.00011851  1.00016081\n",
      "   1.00020925  1.00026381  1.00032445  1.00039113  1.00046381  1.00054244\n",
      "   1.00062697  1.00071735  1.00081353  1.00091543  1.001023    1.00113616\n",
      "   1.00125485  1.00137899  1.00150849  1.00164329  1.00178328  1.00192839\n",
      "   1.00207851  1.00223356  1.00239344  1.00255803  1.00272725  1.00290097\n",
      "   1.0030791   1.00326151  1.00344809  1.00363872  1.00383328  1.00403164\n",
      "   1.00423369  1.00443928  1.00464829  1.00486058  1.00507602  1.00529448\n",
      "   1.00551581  1.00573987  1.00596651  1.0061956   1.00642699  1.00666052\n",
      "   1.00689606  1.00713344  1.00737252  1.00761315  1.00785516  1.00809842\n",
      "   1.00834275  1.00858801  1.00883404  1.00908067  1.00932776  1.00957514\n",
      "   1.00982266  1.01007016  1.01031747  1.01056445  1.01081092  1.01105674\n",
      "   1.01130175  1.01154579  1.0117887   1.01203032  1.01227051  1.01250911\n",
      "   1.01274595  1.01298091  1.01321381  1.01344451  1.01367287  1.01389873\n",
      "   1.01412195  1.01434239  1.0145599   1.01477435  1.01498559  1.01519349\n",
      "   1.01539792  1.01559874  1.01579582  1.01598904  1.01617826  1.01636338\n",
      "   1.01654426  1.01672079  1.01689285  1.01706033  1.01722313  1.01738114\n",
      "   1.01753425  1.01768236  1.01782538  1.01796321  1.01809576  1.01822294\n",
      "   1.01834467  1.01846088  1.01857147  1.01867638  1.01877554  1.01886888\n",
      "   1.01895634  1.01903786  1.01911338  1.01918285  1.01924622  1.01930345\n",
      "   1.0193545   1.01939933  1.01943791  1.01947021  1.01949621  1.01951587\n",
      "   1.0195292   1.01953617  1.01953677  1.01953101  1.01951887  1.01950037\n",
      "   1.0194755   1.01944428  1.01940673  1.01936286  1.01931269  1.01925626\n",
      "   1.01919359  1.01912471  1.01904967  1.01896851  1.01888127  1.01878801\n",
      "   1.01868877  1.01858361  1.0184726   1.0183558   1.01823327  1.0181051\n",
      "   1.01797135  1.0178321   1.01768744  1.01753745  1.01738222  1.01722184\n",
      "   1.01705641  1.01688602  1.01671079  1.0165308   1.01634618  1.01615702\n",
      "   1.01596345  1.01576558  1.01556353  1.01535742  1.01514737  1.01493351\n",
      "   1.01471597  1.01449488  1.01427037  1.01404258  1.01381165  1.01357771\n",
      "   1.01334091  1.01310138  1.01285928  1.01261475  1.01236794  1.01211899\n",
      "   1.01186806  1.01161529  1.01136085  1.01110488  1.01084754  1.01058898\n",
      "   1.01032937  1.01006885  1.00980759  1.00954574  1.00928347  1.00902092\n",
      "   1.00875826  1.00849564  1.00823324  1.00797119  1.00770967  1.00744882\n",
      "   1.00718881  1.0069298   1.00667193  1.00641537  1.00616026  1.00590677\n",
      "   1.00565504  1.00540523  1.00515749  1.00491195  1.00466878  1.00442812\n",
      "   1.00419011  1.00395489  1.00372261  1.00349339  1.00326739  1.00304474\n",
      "   1.00282555  1.00260998  1.00239814  1.00219016  1.00198617  1.00178628\n",
      "   1.00159061  1.00139928  1.0012124   1.00103007  1.00085242  1.00067953\n",
      "   1.00051151  1.00034846  1.00019048  1.00003764  0.99989005  0.99974779\n",
      "   0.99961093  0.99947955  0.99935373  0.99923355  0.99911906  0.99901032\n",
      "   0.99890741  0.99881037  0.99871926  0.99863413  0.99855502  0.99848197\n",
      "   0.99841501  0.99835419  0.99829953  0.99825105  0.99820879  0.99817274\n",
      "   0.99814294  0.99811938  0.99810208  0.99809102  0.99808623  0.99808767\n",
      "   0.99809535  0.99810925  0.99812935  0.99815563  0.99818807  0.99822663\n",
      "   0.99827127  0.99832197  0.99837867  0.99844133  0.99850991  0.99858435\n",
      "   0.99866459  0.99875058  0.99884224  0.99893951  0.99904232  0.99915059\n",
      "   0.99926425  0.9993832   0.99950738  0.99963668  0.99977102  0.99991029\n",
      "   1.00005441  1.00020327  1.00035677  1.00051479  1.00067723  1.00084398\n",
      "   1.00101491  1.00118992  1.00136887  1.00155165  1.00173812  1.00192817\n",
      "   1.00212165  1.00231844  1.0025184   1.0027214   1.00292728  1.00313592\n",
      "   1.00334717  1.00356089  1.00377692  1.00399513  1.00421536  1.00443746\n",
      "   1.00466128  1.00488666  1.00511347  1.00534153  1.00557069  1.0058008\n",
      "   1.0060317   1.00626324  1.00649525  1.00672757  1.00696006  1.00719254\n",
      "   1.00742487  1.00765688  1.00788841  1.00811931  1.00834942  1.00857857\n",
      "   1.00880663  1.00903342  1.00925879  1.0094826   1.00970467  1.00992487\n",
      "   1.01014305  1.01035904  1.0105727   1.0107839   1.01099247  1.01119827\n",
      "   1.01140117  1.01160102  1.01179769  1.01199103  1.01218091  1.0123672\n",
      "   1.01254977  1.0127285   1.01290324  1.0130739   1.01324033  1.01340242\n",
      "   1.01356007  1.01371315  1.01386155  1.01400517  1.01414391  1.01427767\n",
      "   1.01440634  1.01452983  1.01464806  1.01476093  1.01486835  1.01497026\n",
      "   1.01506656  1.01515719  1.01524208  1.01532115  1.01539434  1.0154616\n",
      "   1.01552287  1.01557809  1.01562722  1.01567021  1.01570702  1.01573761\n",
      "   1.01576195  1.01578002  1.01579178  1.01579721  1.0157963   1.01578904\n",
      "   1.0157754   1.0157554   1.01572902  1.01569627  1.01565715  1.01561167\n",
      "   1.01555986  1.01550172  1.01543728  1.01536657  1.01528961  1.01520644\n",
      "   1.0151171   1.01502163  1.01492007  1.01481247  1.01469889  1.01457938\n",
      "   1.01445401  1.01432283  1.01418592  1.01404335  1.01389518  1.01374151\n",
      "   1.01358241  1.01341796  1.01324826  1.0130734   1.01289347]\n",
      " [-1.00000125 -1.00000875 -1.0000225  -1.00004248 -1.00006868 -1.00010109\n",
      "  -1.00013969 -1.00018444 -1.00023533 -1.00029232 -1.00035537 -1.00042444\n",
      "  -1.0004995  -1.00058048 -1.00066734 -1.00076003 -1.00085848 -1.00096263\n",
      "  -1.00107242 -1.00118777 -1.00130862 -1.00143487 -1.00156646 -1.00170331\n",
      "  -1.00184531 -1.00199238 -1.00214444 -1.00230137 -1.00246308 -1.00262947\n",
      "  -1.00280044 -1.00297586 -1.00315563 -1.00333964 -1.00352777 -1.00371989\n",
      "  -1.00391589 -1.00411564 -1.00431901 -1.00452587 -1.00473609 -1.00494954\n",
      "  -1.00516607 -1.00538556 -1.00560786 -1.00583283 -1.00606032 -1.00629019\n",
      "  -1.0065223  -1.00675649 -1.00699261 -1.00723052 -1.00747006 -1.00771107\n",
      "  -1.00795341 -1.00819692 -1.00844145 -1.00868683 -1.00893291 -1.00917953\n",
      "  -1.00942653 -1.00967377 -1.00992106 -1.01016827 -1.01041523 -1.01066178\n",
      "  -1.01090777 -1.01115303 -1.01139741 -1.01164076 -1.01188291 -1.01212371\n",
      "  -1.012363   -1.01260064 -1.01283647 -1.01307034 -1.01330209 -1.01353159\n",
      "  -1.01375867 -1.0139832  -1.01420502 -1.01442401 -1.01464001 -1.01485288\n",
      "  -1.0150625  -1.01526871 -1.0154714  -1.01567042 -1.01586566 -1.01605698\n",
      "  -1.01624426 -1.01642737 -1.0166062  -1.01678064 -1.01695056 -1.01711586\n",
      "  -1.01727644 -1.01743217 -1.01758297 -1.01772874 -1.01786937 -1.01800478\n",
      "  -1.01813487 -1.01825957 -1.01837878 -1.01849243 -1.01860045 -1.01870275\n",
      "  -1.01879928 -1.01888997 -1.01897475 -1.01905357 -1.01912638 -1.01919312\n",
      "  -1.01925375 -1.01930822 -1.0193565  -1.01939855 -1.01943434 -1.01946384\n",
      "  -1.01948704 -1.0195039  -1.01951443 -1.01951859 -1.0195164  -1.01950783\n",
      "  -1.01949291 -1.01947162 -1.01944397 -1.01940999 -1.01936969 -1.01932308\n",
      "  -1.01927019 -1.01921106 -1.0191457  -1.01907417 -1.01899649 -1.01891271\n",
      "  -1.01882288 -1.01872706 -1.01862528 -1.01851763 -1.01840415 -1.01828491\n",
      "  -1.01815999 -1.01802945 -1.01789337 -1.01775184 -1.01760494 -1.01745275\n",
      "  -1.01729536 -1.01713287 -1.01696538 -1.01679297 -1.01661577 -1.01643387\n",
      "  -1.01624738 -1.01605641 -1.01586108 -1.0156615  -1.0154578  -1.0152501\n",
      "  -1.01503852 -1.01482318 -1.01460423 -1.01438178 -1.01415598 -1.01392696\n",
      "  -1.01369485 -1.01345981 -1.01322196 -1.01298146 -1.01273845 -1.01249307\n",
      "  -1.01224547 -1.01199581 -1.01174423 -1.01149089 -1.01123593 -1.01097952\n",
      "  -1.0107218  -1.01046294 -1.01020308 -1.0099424  -1.00968103 -1.00941915\n",
      "  -1.00915691 -1.00889446 -1.00863197 -1.00836959 -1.00810749 -1.00784582\n",
      "  -1.00758473 -1.0073244  -1.00706496 -1.00680658 -1.00654942 -1.00629363\n",
      "  -1.00603936 -1.00578676 -1.00553599 -1.0052872  -1.00504054 -1.00479615\n",
      "  -1.00455418 -1.00431478 -1.00407809 -1.00384425 -1.0036134  -1.00338567\n",
      "  -1.00316121 -1.00294015 -1.00272261 -1.00250874 -1.00229864 -1.00209246\n",
      "  -1.0018903  -1.0016923  -1.00149856 -1.0013092  -1.00112433 -1.00094406\n",
      "  -1.0007685  -1.00059774 -1.00043189 -1.00027103 -1.00011528 -0.99996471\n",
      "  -0.9998194  -0.99967945 -0.99954494 -0.99941593 -0.99929251 -0.99917473\n",
      "  -0.99906267 -0.99895639 -0.99885594 -0.99876138 -0.99867276 -0.99859013\n",
      "  -0.99851353 -0.99844299 -0.99837856 -0.99832027 -0.99826814 -0.99822219\n",
      "  -0.99818245 -0.99814893 -0.99812164 -0.99810059 -0.99808579 -0.99807723\n",
      "  -0.99807491 -0.99807882 -0.99808895 -0.99810529 -0.9981278  -0.99815647\n",
      "  -0.99819128 -0.99823218 -0.99827914 -0.99833213 -0.9983911  -0.99845599\n",
      "  -0.99852677 -0.99860338 -0.99868575 -0.99877383 -0.99886754 -0.99896683\n",
      "  -0.99907161 -0.99918181 -0.99929735 -0.99941815 -0.99954412 -0.99967516\n",
      "  -0.9998112  -0.99995212 -1.00009783 -1.00024823 -1.00040321 -1.00056267\n",
      "  -1.00072648 -1.00089455 -1.00106674 -1.00124294 -1.00142303 -1.00160689\n",
      "  -1.00179438 -1.00198538 -1.00217976 -1.00237737 -1.0025781  -1.00278179\n",
      "  -1.0029883  -1.00319751 -1.00340926 -1.0036234  -1.0038398  -1.0040583\n",
      "  -1.00427875 -1.00450101 -1.00472491 -1.00495032 -1.00517707 -1.00540501\n",
      "  -1.00563399 -1.00586384 -1.00609441 -1.00632555 -1.0065571  -1.00678889\n",
      "  -1.00702077 -1.00725258 -1.00748417 -1.00771537 -1.00794603 -1.00817599\n",
      "  -1.00840509 -1.00863318 -1.0088601  -1.00908569 -1.0093098  -1.00953227\n",
      "  -1.00975296 -1.00997171 -1.01018837 -1.01040279 -1.01061483 -1.01082433\n",
      "  -1.01103116 -1.01123516 -1.01143621 -1.01163415 -1.01182885 -1.01202018\n",
      "  -1.012208   -1.01239219 -1.0125726  -1.01274912 -1.01292162 -1.01308998\n",
      "  -1.01325407 -1.01341379 -1.01356903 -1.01371965 -1.01386557 -1.01400667\n",
      "  -1.01414286 -1.01427403 -1.01440008 -1.01452093 -1.01463649 -1.01474666\n",
      "  -1.01485137 -1.01495053 -1.01504407 -1.01513193 -1.01521401 -1.01529027\n",
      "  -1.01536065 -1.01542507 -1.01548349 -1.01553586 -1.01558214 -1.01562226\n",
      "  -1.01565621 -1.01568394 -1.01570542 -1.01572063 -1.01572953 -1.01573212\n",
      "  -1.01572837 -1.01571828 -1.01570182 -1.01567901 -1.01564984 -1.01561432\n",
      "  -1.01557245 -1.01552424 -1.01546972 -1.0154089  -1.0153418  -1.01526845\n",
      "  -1.01518889 -1.01510315 -1.01501126 -1.01491328 -1.01480925 -1.01469922\n",
      "  -1.01458324 -1.01446137 -1.01433368 -1.01420023 -1.01406109 -1.01391633\n",
      "  -1.01376603 -1.01361027 -1.01344913 -1.0132827  -1.01311106]]\n"
     ]
    }
   ],
   "source": [
    "print(R[0])"
   ]
  },
  {
   "cell_type": "code",
   "execution_count": 71,
   "metadata": {},
   "outputs": [
    {
     "name": "stdout",
     "output_type": "stream",
     "text": [
      "[1.0001097  1.00031801 1.00062284 ... 0.54223066 0.54047957 0.53877714] [-5.98503741e-06 -2.78709709e-05 -7.54165338e-05 ... -8.59069048e-01\n",
      " -8.59158803e-01 -8.59160537e-01]\n",
      "[-1.0000898  -1.00027851 -1.00056423 ... -0.54177224 -0.53998697\n",
      " -0.53825109] [3.99032343e-06 2.19075192e-05 6.35511876e-05 ... 8.58980314e-01\n",
      " 8.59063857e-01 8.59056034e-01]\n"
     ]
    },
    {
     "data": {
      "image/png": "[encoded data removed]",
      "text/plain": [
       "<Figure size 432x288 with 1 Axes>"
      ]
     },
     "metadata": {
      "needs_background": "light"
     },
     "output_type": "display_data"
    },
    {
     "data": {
      "text/plain": [
       "Text(0, 0.5, 'z')"
      ]
     },
     "execution_count": 71,
     "metadata": {},
     "output_type": "execute_result"
    },
    {
     "data": {
      "image/png": "[encoded data removed]",
      "text/plain": [
       "<Figure size 432x288 with 1 Axes>"
      ]
     },
     "metadata": {
      "needs_background": "light"
     },
     "output_type": "display_data"
    }
   ],
   "source": [
    "for i in range(0, num_particles):\n",
    "    plt.plot(R[0][i], R[1][i]) \n",
    "    print(R[0][i], R[1][i])\n",
    "#plt.gca().set_aspect('equal')\n",
    "plt.xlabel('x')\n",
    "plt.ylabel('y')\n",
    "plt.show()\n",
    "\n",
    "for i in range(0, num_particles):\n",
    "    plt.plot(R[2][i]) \n",
    "plt.ylabel('z')\n"
   ]
  },
  {
   "cell_type": "code",
   "execution_count": 160,
   "metadata": {},
   "outputs": [
    {
     "name": "stderr",
     "output_type": "stream",
     "text": [
      "<ipython-input-160-84ad7418c37e>:8: VisibleDeprecationWarning: Creating an ndarray from ragged nested sequences (which is a list-or-tuple of lists-or-tuples-or ndarrays with different lengths or shapes) is deprecated. If you meant to do this, you must specify 'dtype=object' when creating the ndarray.\n",
      "  dataSet = np.array([r[0][i], r[1][i], time])\n"
     ]
    },
    {
     "ename": "IndexError",
     "evalue": "list index out of range",
     "output_type": "error",
     "traceback": [
      "\u001b[0;31m---------------------------------------------------------------------------\u001b[0m",
      "\u001b[0;31mIndexError\u001b[0m                                Traceback (most recent call last)",
      "\u001b[0;32m<ipython-input-160-84ad7418c37e>\u001b[0m in \u001b[0;36m<module>\u001b[0;34m\u001b[0m\n\u001b[1;32m      9\u001b[0m \u001b[0;34m\u001b[0m\u001b[0m\n\u001b[1;32m     10\u001b[0m \u001b[0mx\u001b[0m\u001b[0;34m,\u001b[0m \u001b[0my\u001b[0m\u001b[0;34m,\u001b[0m \u001b[0mz\u001b[0m \u001b[0;34m=\u001b[0m \u001b[0mdataSet\u001b[0m\u001b[0;34m[\u001b[0m\u001b[0;36m0\u001b[0m\u001b[0;34m]\u001b[0m\u001b[0;34m,\u001b[0m \u001b[0mdataSet\u001b[0m\u001b[0;34m[\u001b[0m\u001b[0;36m1\u001b[0m\u001b[0;34m]\u001b[0m\u001b[0;34m,\u001b[0m \u001b[0mdataSet\u001b[0m\u001b[0;34m[\u001b[0m\u001b[0;36m2\u001b[0m\u001b[0;34m]\u001b[0m\u001b[0;34m\u001b[0m\u001b[0;34m\u001b[0m\u001b[0m\n\u001b[0;32m---> 11\u001b[0;31m \u001b[0mnumDataPoints\u001b[0m \u001b[0;34m=\u001b[0m \u001b[0mlen\u001b[0m\u001b[0;34m(\u001b[0m\u001b[0mr\u001b[0m\u001b[0;34m[\u001b[0m\u001b[0;36m2\u001b[0m\u001b[0;34m]\u001b[0m\u001b[0;34m[\u001b[0m\u001b[0mi\u001b[0m\u001b[0;34m]\u001b[0m\u001b[0;34m)\u001b[0m\u001b[0;34m\u001b[0m\u001b[0;34m\u001b[0m\u001b[0m\n\u001b[0m\u001b[1;32m     12\u001b[0m \u001b[0;31m# GET SOME MATPLOTLIB OBJECTS\u001b[0m\u001b[0;34m\u001b[0m\u001b[0;34m\u001b[0m\u001b[0;34m\u001b[0m\u001b[0m\n\u001b[1;32m     13\u001b[0m \u001b[0mfig\u001b[0m \u001b[0;34m=\u001b[0m \u001b[0mplt\u001b[0m\u001b[0;34m.\u001b[0m\u001b[0mfigure\u001b[0m\u001b[0;34m(\u001b[0m\u001b[0;34m)\u001b[0m\u001b[0;34m\u001b[0m\u001b[0;34m\u001b[0m\u001b[0m\n",
      "\u001b[0;31mIndexError\u001b[0m: list index out of range"
     ]
    }
   ],
   "source": [
    "# ANIMATION FUNCTION\n",
    "def func(num, dataSet, line):\n",
    "    # NOTE: there is no .set_data() for 3 dim data...\n",
    "    line.set_data(dataSet[0:2, :num])\n",
    "    line.set_3d_properties(dataSet[2, :num])\n",
    "    return line\n",
    "\n",
    "dataSet = np.array([r[0][i], r[1][i], time])\n",
    "\n",
    "x, y, z = dataSet[0], dataSet[1], dataSet[2]\n",
    "numDataPoints = len(r[2][i])\n",
    "# GET SOME MATPLOTLIB OBJECTS\n",
    "fig = plt.figure()\n",
    "ax = Axes3D(fig)\n",
    "# NOTE: Can't pass empty arrays into 3d version of plot()\n",
    "for i in range(0, num_particles): \n",
    "    line = plt.plot(r[0][i], time,  r[1][i], lw=2)[0] \n",
    " #= plt.plot(dataSet[0], dataSet[1], dataSet[2], lw=2, c='g')# For line plot\n",
    "# AXES PROPERTIES]\n",
    "# ax.set_xlim3d([limit0, limit1])\n",
    "ax.set_xlabel('X(t)')\n",
    "ax.set_ylabel('Y(t)')\n",
    "ax.set_zlabel('time')\n",
    "# Creating the Animation object\n",
    "#line_ani = animation.FuncAnimation(fig, func, frames=numDataPoints, fargs=(dataSet,line), interval=0, blit=False)\n",
    "#line_ani.save(r'AnimationNew.mp4')"
   ]
  },
  {
   "cell_type": "code",
   "execution_count": null,
   "metadata": {},
   "outputs": [],
   "source": []
  }
 ],
 "metadata": {
  "kernelspec": {
   "display_name": "Python 3",
   "language": "python",
   "name": "python3"
  },
  "language_info": {
   "codemirror_mode": {
    "name": "ipython",
    "version": 3
   },
   "file_extension": ".py",
   "mimetype": "text/x-python",
   "name": "python",
   "nbconvert_exporter": "python",
   "pygments_lexer": "ipython3",
   "version": "3.8.8"
  }
 },
 "nbformat": 4,
 "nbformat_minor": 4
}
